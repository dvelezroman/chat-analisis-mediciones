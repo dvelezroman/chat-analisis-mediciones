{
 "cells": [
  {
   "cell_type": "markdown",
   "metadata": {},
   "source": [
    "Carga de datos del dataset en xlsx"
   ]
  },
  {
   "cell_type": "code",
   "execution_count": 7,
   "metadata": {},
   "outputs": [],
   "source": [
    "import pandas as pd"
   ]
  },
  {
   "cell_type": "code",
   "execution_count": 55,
   "metadata": {},
   "outputs": [],
   "source": [
    "path = \"/home/caffeinasw/CursoNative/MachineLearning/Datasets\"\n",
    "fileName = \"/DonMichel/MEDICIONES_3.csv\"\n",
    "fullPath = path + fileName"
   ]
  },
  {
   "cell_type": "code",
   "execution_count": 56,
   "metadata": {},
   "outputs": [],
   "source": [
    "dataSet = pd.read_csv(fullPath)"
   ]
  },
  {
   "cell_type": "code",
   "execution_count": 57,
   "metadata": {},
   "outputs": [
    {
     "data": {
      "text/html": [
       "<div>\n",
       "<style scoped>\n",
       "    .dataframe tbody tr th:only-of-type {\n",
       "        vertical-align: middle;\n",
       "    }\n",
       "\n",
       "    .dataframe tbody tr th {\n",
       "        vertical-align: top;\n",
       "    }\n",
       "\n",
       "    .dataframe thead th {\n",
       "        text-align: right;\n",
       "    }\n",
       "</style>\n",
       "<table border=\"1\" class=\"dataframe\">\n",
       "  <thead>\n",
       "    <tr style=\"text-align: right;\">\n",
       "      <th></th>\n",
       "      <th>Fecha</th>\n",
       "      <th>Hora</th>\n",
       "      <th>Ancho de Banda (Mbps)</th>\n",
       "      <th>Retardo (ms)</th>\n",
       "      <th>Jitter (ms)</th>\n",
       "      <th>Pérdida de Paquetes</th>\n",
       "      <th>Fluidez Audio</th>\n",
       "      <th>Fluidez Video</th>\n",
       "      <th>Calidad Comunicación</th>\n",
       "    </tr>\n",
       "  </thead>\n",
       "  <tbody>\n",
       "    <tr>\n",
       "      <th>0</th>\n",
       "      <td>29/07/2018</td>\n",
       "      <td>14:20</td>\n",
       "      <td>25</td>\n",
       "      <td>93</td>\n",
       "      <td>10</td>\n",
       "      <td>10</td>\n",
       "      <td>5</td>\n",
       "      <td>3</td>\n",
       "      <td>5</td>\n",
       "    </tr>\n",
       "    <tr>\n",
       "      <th>1</th>\n",
       "      <td>29/07/2018</td>\n",
       "      <td>14:33</td>\n",
       "      <td>11</td>\n",
       "      <td>129</td>\n",
       "      <td>13</td>\n",
       "      <td>10</td>\n",
       "      <td>3</td>\n",
       "      <td>3</td>\n",
       "      <td>5</td>\n",
       "    </tr>\n",
       "    <tr>\n",
       "      <th>2</th>\n",
       "      <td>29/07/2018</td>\n",
       "      <td>14:46</td>\n",
       "      <td>21</td>\n",
       "      <td>109</td>\n",
       "      <td>7</td>\n",
       "      <td>9</td>\n",
       "      <td>4</td>\n",
       "      <td>4</td>\n",
       "      <td>3</td>\n",
       "    </tr>\n",
       "    <tr>\n",
       "      <th>3</th>\n",
       "      <td>29/07/2018</td>\n",
       "      <td>14:59</td>\n",
       "      <td>24</td>\n",
       "      <td>118</td>\n",
       "      <td>7</td>\n",
       "      <td>3</td>\n",
       "      <td>5</td>\n",
       "      <td>3</td>\n",
       "      <td>4</td>\n",
       "    </tr>\n",
       "    <tr>\n",
       "      <th>4</th>\n",
       "      <td>29/07/2018</td>\n",
       "      <td>15:12</td>\n",
       "      <td>21</td>\n",
       "      <td>136</td>\n",
       "      <td>7</td>\n",
       "      <td>9</td>\n",
       "      <td>4</td>\n",
       "      <td>3</td>\n",
       "      <td>4</td>\n",
       "    </tr>\n",
       "  </tbody>\n",
       "</table>\n",
       "</div>"
      ],
      "text/plain": [
       "        Fecha   Hora  Ancho de Banda (Mbps)  Retardo (ms)  Jitter (ms)  \\\n",
       "0  29/07/2018  14:20                     25            93           10   \n",
       "1  29/07/2018  14:33                     11           129           13   \n",
       "2  29/07/2018  14:46                     21           109            7   \n",
       "3  29/07/2018  14:59                     24           118            7   \n",
       "4  29/07/2018  15:12                     21           136            7   \n",
       "\n",
       "   Pérdida de Paquetes  Fluidez Audio  Fluidez Video  Calidad Comunicación  \n",
       "0                   10              5              3                     5  \n",
       "1                   10              3              3                     5  \n",
       "2                    9              4              4                     3  \n",
       "3                    3              5              3                     4  \n",
       "4                    9              4              3                     4  "
      ]
     },
     "execution_count": 57,
     "metadata": {},
     "output_type": "execute_result"
    }
   ],
   "source": [
    "dataSet.head()"
   ]
  },
  {
   "cell_type": "code",
   "execution_count": 58,
   "metadata": {},
   "outputs": [
    {
     "data": {
      "text/html": [
       "<div>\n",
       "<style scoped>\n",
       "    .dataframe tbody tr th:only-of-type {\n",
       "        vertical-align: middle;\n",
       "    }\n",
       "\n",
       "    .dataframe tbody tr th {\n",
       "        vertical-align: top;\n",
       "    }\n",
       "\n",
       "    .dataframe thead th {\n",
       "        text-align: right;\n",
       "    }\n",
       "</style>\n",
       "<table border=\"1\" class=\"dataframe\">\n",
       "  <thead>\n",
       "    <tr style=\"text-align: right;\">\n",
       "      <th></th>\n",
       "      <th>Ancho de Banda (Mbps)</th>\n",
       "      <th>Retardo (ms)</th>\n",
       "      <th>Jitter (ms)</th>\n",
       "      <th>Pérdida de Paquetes</th>\n",
       "      <th>Fluidez Audio</th>\n",
       "      <th>Fluidez Video</th>\n",
       "      <th>Calidad Comunicación</th>\n",
       "    </tr>\n",
       "  </thead>\n",
       "  <tbody>\n",
       "    <tr>\n",
       "      <th>count</th>\n",
       "      <td>100.000000</td>\n",
       "      <td>100.000000</td>\n",
       "      <td>100.000000</td>\n",
       "      <td>100.000000</td>\n",
       "      <td>100.000000</td>\n",
       "      <td>100.000000</td>\n",
       "      <td>100.000000</td>\n",
       "    </tr>\n",
       "    <tr>\n",
       "      <th>mean</th>\n",
       "      <td>17.810000</td>\n",
       "      <td>114.350000</td>\n",
       "      <td>9.320000</td>\n",
       "      <td>8.600000</td>\n",
       "      <td>4.010000</td>\n",
       "      <td>3.980000</td>\n",
       "      <td>4.010000</td>\n",
       "    </tr>\n",
       "    <tr>\n",
       "      <th>std</th>\n",
       "      <td>5.108312</td>\n",
       "      <td>23.255878</td>\n",
       "      <td>2.373592</td>\n",
       "      <td>4.903101</td>\n",
       "      <td>0.822598</td>\n",
       "      <td>0.875941</td>\n",
       "      <td>0.784895</td>\n",
       "    </tr>\n",
       "    <tr>\n",
       "      <th>min</th>\n",
       "      <td>8.000000</td>\n",
       "      <td>75.000000</td>\n",
       "      <td>6.000000</td>\n",
       "      <td>0.000000</td>\n",
       "      <td>3.000000</td>\n",
       "      <td>3.000000</td>\n",
       "      <td>3.000000</td>\n",
       "    </tr>\n",
       "    <tr>\n",
       "      <th>25%</th>\n",
       "      <td>13.750000</td>\n",
       "      <td>95.000000</td>\n",
       "      <td>7.000000</td>\n",
       "      <td>5.000000</td>\n",
       "      <td>3.000000</td>\n",
       "      <td>3.000000</td>\n",
       "      <td>3.000000</td>\n",
       "    </tr>\n",
       "    <tr>\n",
       "      <th>50%</th>\n",
       "      <td>19.000000</td>\n",
       "      <td>112.500000</td>\n",
       "      <td>9.000000</td>\n",
       "      <td>9.000000</td>\n",
       "      <td>4.000000</td>\n",
       "      <td>4.000000</td>\n",
       "      <td>4.000000</td>\n",
       "    </tr>\n",
       "    <tr>\n",
       "      <th>75%</th>\n",
       "      <td>22.000000</td>\n",
       "      <td>134.000000</td>\n",
       "      <td>11.250000</td>\n",
       "      <td>13.000000</td>\n",
       "      <td>5.000000</td>\n",
       "      <td>5.000000</td>\n",
       "      <td>5.000000</td>\n",
       "    </tr>\n",
       "    <tr>\n",
       "      <th>max</th>\n",
       "      <td>25.000000</td>\n",
       "      <td>158.000000</td>\n",
       "      <td>13.000000</td>\n",
       "      <td>16.000000</td>\n",
       "      <td>5.000000</td>\n",
       "      <td>5.000000</td>\n",
       "      <td>5.000000</td>\n",
       "    </tr>\n",
       "  </tbody>\n",
       "</table>\n",
       "</div>"
      ],
      "text/plain": [
       "       Ancho de Banda (Mbps)  Retardo (ms)  Jitter (ms)  Pérdida de Paquetes  \\\n",
       "count             100.000000    100.000000   100.000000           100.000000   \n",
       "mean               17.810000    114.350000     9.320000             8.600000   \n",
       "std                 5.108312     23.255878     2.373592             4.903101   \n",
       "min                 8.000000     75.000000     6.000000             0.000000   \n",
       "25%                13.750000     95.000000     7.000000             5.000000   \n",
       "50%                19.000000    112.500000     9.000000             9.000000   \n",
       "75%                22.000000    134.000000    11.250000            13.000000   \n",
       "max                25.000000    158.000000    13.000000            16.000000   \n",
       "\n",
       "       Fluidez Audio  Fluidez Video  Calidad Comunicación  \n",
       "count     100.000000     100.000000            100.000000  \n",
       "mean        4.010000       3.980000              4.010000  \n",
       "std         0.822598       0.875941              0.784895  \n",
       "min         3.000000       3.000000              3.000000  \n",
       "25%         3.000000       3.000000              3.000000  \n",
       "50%         4.000000       4.000000              4.000000  \n",
       "75%         5.000000       5.000000              5.000000  \n",
       "max         5.000000       5.000000              5.000000  "
      ]
     },
     "execution_count": 58,
     "metadata": {},
     "output_type": "execute_result"
    }
   ],
   "source": [
    "dataSet.describe()"
   ]
  },
  {
   "cell_type": "code",
   "execution_count": 60,
   "metadata": {},
   "outputs": [],
   "source": [
    "def dummyfication(dataframe, col_name):\n",
    "    dummy_set = pd.get_dummies(dataframe[col_name], prefix = col_name)\n",
    "    dataframe = dataframe.drop([col_name], axis = 1)\n",
    "    dataframe = pd.concat([dataframe, dummy_set], axis = 1)\n",
    "    return dataframe\n",
    "dataSetDummified = dummyfication(dataSet, \"Jitter (ms)\")"
   ]
  },
  {
   "cell_type": "code",
   "execution_count": 70,
   "metadata": {},
   "outputs": [
    {
     "data": {
      "text/html": [
       "<div>\n",
       "<style scoped>\n",
       "    .dataframe tbody tr th:only-of-type {\n",
       "        vertical-align: middle;\n",
       "    }\n",
       "\n",
       "    .dataframe tbody tr th {\n",
       "        vertical-align: top;\n",
       "    }\n",
       "\n",
       "    .dataframe thead th {\n",
       "        text-align: right;\n",
       "    }\n",
       "</style>\n",
       "<table border=\"1\" class=\"dataframe\">\n",
       "  <thead>\n",
       "    <tr style=\"text-align: right;\">\n",
       "      <th></th>\n",
       "      <th>Fecha</th>\n",
       "      <th>Hora</th>\n",
       "      <th>Ancho de Banda (Mbps)</th>\n",
       "      <th>Retardo (ms)</th>\n",
       "      <th>Jitter (ms)</th>\n",
       "      <th>Pérdida de Paquetes</th>\n",
       "      <th>Fluidez Audio</th>\n",
       "      <th>Fluidez Video</th>\n",
       "      <th>Calidad Comunicación</th>\n",
       "    </tr>\n",
       "  </thead>\n",
       "  <tbody>\n",
       "    <tr>\n",
       "      <th>0</th>\n",
       "      <td>29/07/2018</td>\n",
       "      <td>14:20</td>\n",
       "      <td>25</td>\n",
       "      <td>93</td>\n",
       "      <td>10</td>\n",
       "      <td>10</td>\n",
       "      <td>5</td>\n",
       "      <td>3</td>\n",
       "      <td>5</td>\n",
       "    </tr>\n",
       "    <tr>\n",
       "      <th>1</th>\n",
       "      <td>29/07/2018</td>\n",
       "      <td>14:33</td>\n",
       "      <td>11</td>\n",
       "      <td>129</td>\n",
       "      <td>13</td>\n",
       "      <td>10</td>\n",
       "      <td>3</td>\n",
       "      <td>3</td>\n",
       "      <td>5</td>\n",
       "    </tr>\n",
       "    <tr>\n",
       "      <th>2</th>\n",
       "      <td>29/07/2018</td>\n",
       "      <td>14:46</td>\n",
       "      <td>21</td>\n",
       "      <td>109</td>\n",
       "      <td>7</td>\n",
       "      <td>9</td>\n",
       "      <td>4</td>\n",
       "      <td>4</td>\n",
       "      <td>3</td>\n",
       "    </tr>\n",
       "    <tr>\n",
       "      <th>3</th>\n",
       "      <td>29/07/2018</td>\n",
       "      <td>14:59</td>\n",
       "      <td>24</td>\n",
       "      <td>118</td>\n",
       "      <td>7</td>\n",
       "      <td>3</td>\n",
       "      <td>5</td>\n",
       "      <td>3</td>\n",
       "      <td>4</td>\n",
       "    </tr>\n",
       "    <tr>\n",
       "      <th>4</th>\n",
       "      <td>29/07/2018</td>\n",
       "      <td>15:12</td>\n",
       "      <td>21</td>\n",
       "      <td>136</td>\n",
       "      <td>7</td>\n",
       "      <td>9</td>\n",
       "      <td>4</td>\n",
       "      <td>3</td>\n",
       "      <td>4</td>\n",
       "    </tr>\n",
       "  </tbody>\n",
       "</table>\n",
       "</div>"
      ],
      "text/plain": [
       "        Fecha   Hora  Ancho de Banda (Mbps)  Retardo (ms)  Jitter (ms)  \\\n",
       "0  29/07/2018  14:20                     25            93           10   \n",
       "1  29/07/2018  14:33                     11           129           13   \n",
       "2  29/07/2018  14:46                     21           109            7   \n",
       "3  29/07/2018  14:59                     24           118            7   \n",
       "4  29/07/2018  15:12                     21           136            7   \n",
       "\n",
       "   Pérdida de Paquetes  Fluidez Audio  Fluidez Video  Calidad Comunicación  \n",
       "0                   10              5              3                     5  \n",
       "1                   10              3              3                     5  \n",
       "2                    9              4              4                     3  \n",
       "3                    3              5              3                     4  \n",
       "4                    9              4              3                     4  "
      ]
     },
     "execution_count": 70,
     "metadata": {},
     "output_type": "execute_result"
    }
   ],
   "source": [
    "dataSet.head()"
   ]
  },
  {
   "cell_type": "code",
   "execution_count": 63,
   "metadata": {},
   "outputs": [],
   "source": [
    "import matplotlib.pyplot as plt"
   ]
  },
  {
   "cell_type": "code",
   "execution_count": 79,
   "metadata": {},
   "outputs": [
    {
     "data": {
      "text/plain": [
       "<matplotlib.axes._subplots.AxesSubplot at 0x7f15dc0b8ac8>"
      ]
     },
     "execution_count": 79,
     "metadata": {},
     "output_type": "execute_result"
    },
    {
     "data": {
      "image/png": "[encoded data removed]",
      "text/plain": [
       "<Figure size 432x288 with 1 Axes>"
      ]
     },
     "metadata": {},
     "output_type": "display_data"
    }
   ],
   "source": [
    "dataSet.plot(kind = \"scatter\", x = \"Jitter (ms)\", y = \"Fluidez Audio\")"
   ]
  },
  {
   "cell_type": "code",
   "execution_count": 80,
   "metadata": {},
   "outputs": [],
   "source": [
    "import numpy as np"
   ]
  },
  {
   "cell_type": "code",
   "execution_count": 81,
   "metadata": {},
   "outputs": [
    {
     "data": {
      "text/plain": [
       "Text(0,0.5,'Frecuency')"
      ]
     },
     "execution_count": 81,
     "metadata": {},
     "output_type": "execute_result"
    },
    {
     "data": {
      "image/png": "[encoded data removed]",
      "text/plain": [
       "<Figure size 432x288 with 1 Axes>"
      ]
     },
     "metadata": {},
     "output_type": "display_data"
    }
   ],
   "source": [
    "plt.hist(dataSet[\"Jitter (ms)\"], bins = int(np.ceil(1 + np.log2(3333))))\n",
    "plt.xlabel(\"Jitter (ms)\")\n",
    "plt.ylabel(\"Frecuency\")"
   ]
  },
  {
   "cell_type": "code",
   "execution_count": null,
   "metadata": {},
   "outputs": [],
   "source": []
  }
 ],
 "metadata": {
  "kernelspec": {
   "display_name": "Python 3",
   "language": "python",
   "name": "python3"
  },
  "language_info": {
   "codemirror_mode": {
    "name": "ipython",
    "version": 3
   },
   "file_extension": ".py",
   "mimetype": "text/x-python",
   "name": "python",
   "nbconvert_exporter": "python",
   "pygments_lexer": "ipython3",
   "version": "3.6.5"
  }
 },
 "nbformat": 4,
 "nbformat_minor": 2
}
